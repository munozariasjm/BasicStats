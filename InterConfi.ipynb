{
  "nbformat": 4,
  "nbformat_minor": 0,
  "metadata": {
    "colab": {
      "name": "InterConfi.ipynb",
      "provenance": [],
      "collapsed_sections": [],
      "authorship_tag": "ABX9TyPzccVS4++6hY3gAN+W/MhF",
      "include_colab_link": true
    },
    "kernelspec": {
      "name": "python3",
      "display_name": "Python 3"
    }
  },
  "cells": [
    {
      "cell_type": "markdown",
      "metadata": {
        "id": "view-in-github",
        "colab_type": "text"
      },
      "source": [
        "<a href=\"https://colab.research.google.com/github/munozariasjm/BasicStats/blob/main/InterConfi.ipynb\" target=\"_parent\"><img src=\"https://colab.research.google.com/assets/colab-badge.svg\" alt=\"Open In Colab\"/></a>"
      ]
    },
    {
      "cell_type": "markdown",
      "metadata": {
        "id": "byhEupvDlN72"
      },
      "source": [
        "# Intervalos de confianza \n",
        "\n",
        "*por:* José Miguel Muñoz\n",
        "\n",
        "\n",
        "(Me escriben si tienen preguntas/problemas con el código)"
      ]
    },
    {
      "cell_type": "markdown",
      "metadata": {
        "id": "0ti_X21klN73"
      },
      "source": [
        "\n",
        "\n",
        "---\n",
        "\n",
        "\n",
        "\n",
        "---\n",
        "Ejecutar esta sección antes de empezar!\n"
      ]
    },
    {
      "cell_type": "code",
      "metadata": {
        "id": "uDr7BwxxlN73"
      },
      "source": [
        "import numpy as np\n",
        "import pandas as pd\n",
        "import scipy.stats as st\n",
        "from scipy.stats import norm"
      ],
      "execution_count": null,
      "outputs": []
    },
    {
      "cell_type": "markdown",
      "metadata": {
        "id": "rWFozCN8lN73"
      },
      "source": [
        "\n",
        "\n",
        "---\n",
        "\n",
        "\n",
        "## Intervalo Normal\n",
        "\n",
        "* Muestra muy grande y varianza poblacional conocida\n",
        "* Muestra pequeña y población normal con sigma conocida\n",
        "* Muestra grande y sigma muestral conocida\n"
      ]
    },
    {
      "cell_type": "code",
      "metadata": {
        "colab": {
          "base_uri": "https://localhost:8080/"
        },
        "id": "-LLux_nVlN73",
        "outputId": "91491cac-27c1-4931-a25e-e0dbdd863593"
      },
      "source": [
        "def IntervaloZ(mu,sigma,n,confi=0.95):\n",
        "  alfa=1-confi\n",
        "  zs=st.norm.ppf(alfa/2)\n",
        "  max=mu-zs*(sigma/n**0.5);min=mu+zs*(sigma/n**0.5)\n",
        "  print(\"Intervalo al {} % de confianza para Diferencia de media:\".format(100*confi))\n",
        "  print(\"Intervalo ===  ({:.4f} , {:.4f})\".format(min,max))\n",
        "\n",
        "IntervaloZ(0.6,0.012,25)"
      ],
      "execution_count": null,
      "outputs": [
        {
          "output_type": "stream",
          "text": [
            "Intervalo al 95.0 % de confianza para Diferencia de media:\n",
            "Intervalo ===  (0.5953 , 0.6047)\n"
          ],
          "name": "stdout"
        }
      ]
    },
    {
      "cell_type": "markdown",
      "metadata": {
        "id": "IAsxwexElN77"
      },
      "source": [
        "\n",
        "\n",
        "---\n",
        "\n",
        "## Intervalo T"
      ]
    },
    {
      "cell_type": "code",
      "metadata": {
        "id": "uyRWO32RlN77"
      },
      "source": [
        "def IntervaloT(mu,sigma,n,confi=0.95): print(st.t.interval(confi, n-1, loc=mu, scale=sigma/np.sqrt(n)))\n",
        "def IntervaloTMuestra(x,confi=0.95): print(st.t.interval(confi, len(x)-1, np.mean(x),st.sem(x)))\n",
        "\n",
        "IntervaloTMuestra([95, 16, 11, 3, 42, 71, 225, 64, 87, 123],0.95)\n"
      ],
      "execution_count": null,
      "outputs": []
    },
    {
      "cell_type": "markdown",
      "metadata": {
        "id": "ieI4LGFtlN78"
      },
      "source": [
        "\n",
        "\n",
        "---\n",
        "\n",
        "## Intervalo diferencia medias"
      ]
    },
    {
      "cell_type": "code",
      "metadata": {
        "colab": {
          "base_uri": "https://localhost:8080/"
        },
        "id": "UB_wr8nhlN78",
        "outputId": "87b17b6a-b276-4c94-f804-760078a8ae80"
      },
      "source": [
        "def IntervaloDifZ(mu1,s1,n1,mu2,s2,n2,confi=0.95,si=False):\n",
        "  se=((((s1**2)/n1) + ((s2**2)/n2)))**0.5\n",
        "  alfa=1-confi\n",
        "  zs=st.norm.ppf(alfa/2)\n",
        "  max=mu1-mu2+(zs*se);min=mu1-mu2-(zs*se)\n",
        "  if si: print(\"El error estándar es: {:.4f}\".format(se))\n",
        "  print(\"Intervalo al {} % de confianza para Diferencia de media:\".format(100*confi))\n",
        "  print(\"Intervalo ===  ({:.4f} , {:.4f})\".format(max,min))\n",
        "\n",
        "IntervaloDifZ(76.12,2.53,6,74.61,8.61,9)"
      ],
      "execution_count": null,
      "outputs": [
        {
          "output_type": "stream",
          "text": [
            "Intervalo al 95.0 % de confianza para Diferencia de media:\n",
            "Intervalo ===  (-4.4683 , 7.4883)\n"
          ],
          "name": "stdout"
        }
      ]
    },
    {
      "cell_type": "markdown",
      "metadata": {
        "id": "zh80urJMlN78"
      },
      "source": [
        "\n",
        "\n",
        "---\n",
        "## Intervalo T dos Muestras\n",
        "\n",
        "\n",
        "Si se tienen dos poblaciones normales con la misma $\\sigma$ desconocida, el siguiente intervalo estima la diferencia de las medias "
      ]
    },
    {
      "cell_type": "code",
      "metadata": {
        "id": "CRcNRohllN78"
      },
      "source": [
        "def IntervaloTDos(mu1,s1,n1,mu2,s2,n2,confi=0.95,nu=0):\n",
        "  if not nu==0: nu=input(\"Si las varianzas son diferentes, ingrese nu: \")\n",
        "  else: nu=n1+n2-2\n",
        "  sp=(((n1-1)*s1**2+(n2-1)*s2**2)/(n1+n2-2))**0.5\n",
        "  alfa=1-confi\n",
        "  zs=st.t.ppf(alfa/2,nu)\n",
        "  max=mu1-mu2+(zs*sp*((1/n1)+(1/n2))**0.5);min=mu1-mu2-(zs*sp*((1/n1)+(1/n2))**0.5)\n",
        "  print(\"Intervalo al {} % de confianza para Diferencia de media:\".format(100*confi))\n",
        "  print(\"Intervalo ===  ({:.4f} , {:.4f})\".format(max,min))\n",
        "\n",
        "IntervaloTDos()"
      ],
      "execution_count": null,
      "outputs": []
    },
    {
      "cell_type": "markdown",
      "metadata": {
        "id": "Y_JP4YdVlN79"
      },
      "source": [
        "\n",
        "---\n",
        "## Intervalo Proporción\n",
        "Sea $x$~$b(n,p)$ donde $\\hat{p}=\\frac{x}{n}$\n"
      ]
    },
    {
      "cell_type": "code",
      "metadata": {
        "id": "v08EBqualN79"
      },
      "source": [
        "def IntervaloProp(x,n,confi=0.95):\n",
        "  p=x/n\n",
        "  alfa=1-confi\n",
        "  zs=st.norm.ppf(alfa/2)\n",
        "  errorMuestreo=zs*(p*(1-p)/n)**0.5\n",
        "  max=p+errorMuestreo;min=p-errorMuestreo\n",
        "  print(\"Intervalo al {} % de confianza para Proporción:\".format(100*confi))\n",
        "  print(\"Intervalo ===>  ({:.4f} , {:.4f})\".format(max,min))\n",
        "\n",
        "IntervaloProp(200,600,0.99)"
      ],
      "execution_count": null,
      "outputs": []
    },
    {
      "cell_type": "markdown",
      "metadata": {
        "id": "SxS-nSJ-lN79"
      },
      "source": [
        "\n",
        "\n",
        "---\n",
        "\n",
        "## Intervalo Para diferencia de proporciones"
      ]
    },
    {
      "cell_type": "code",
      "metadata": {
        "colab": {
          "base_uri": "https://localhost:8080/"
        },
        "id": "SgQOSMAUlN79",
        "outputId": "6df28a88-f58e-4bc5-e54d-8610b0621b76"
      },
      "source": [
        "def IntervaloDifPror(x,n,y,m,confi=0.95):\n",
        "  p1=x/n;p2=y/m\n",
        "  alfa=1-confi\n",
        "  zs=st.norm.ppf(alfa/2)\n",
        "  dp=p1-p2\n",
        "  errorMuestreo=zs*((p1*(1-p1)/n)+(p2*(1-p2)/m))**0.5\n",
        "  max=dp+errorMuestreo;min=dp-errorMuestreo\n",
        "  print(\"Intervalo al {} % de confianza para Diferencia de Proporciones:\".format(100*confi))\n",
        "  print(\"Intervalo ===>  ({} , {})\".format(max,min))\n",
        "\n",
        "\n",
        "IntervaloDifPror(126,300,125,250,0.9)"
      ],
      "execution_count": null,
      "outputs": [
        {
          "output_type": "stream",
          "text": [
            "Intervalo al 90.0 % de confianza para Diferencia de Proporciones:\n",
            "Intervalo ===>  (-0.1500174602425773 , -0.00998253975742272)\n"
          ],
          "name": "stdout"
        }
      ]
    },
    {
      "cell_type": "markdown",
      "metadata": {
        "id": "enRqggbxlN7-"
      },
      "source": [
        "\n",
        "\n",
        "---\n",
        "## Intervalo para Sigma Cuadradro\n",
        "\n",
        "\n",
        "Supongamos que tenemos una muestra población normal con desviación $s_x$, la siguiente función calcula el intervalo de confianza para una $\\sigma^2$\n",
        "\n",
        "Si busca un intervalo para la $\\sigma$ (desviación), poner Desv=True. (Es falso por default)\n",
        "\n"
      ]
    },
    {
      "cell_type": "code",
      "metadata": {
        "id": "W_ZKaz-zlN7-"
      },
      "source": [
        "def IntervaloVar(s,n,confi=0.95,Desv=False):\n",
        "  alfa=1-confi\n",
        "  z1=st.chi2.ppf(alfa/2, n-1,loc=0, scale=1)\n",
        "  z2=st.chi2.ppf(1-(alfa/2), n-1,loc=0, scale=1)\n",
        "  min=(n-1)*(s**2)/z1;max=(n-1)*(s**2)/z2\n",
        "  if Desv==False:\n",
        "    print(\"Intervalo al {} % de confianza para Varianza\".format(100*confi))\n",
        "    print(\"Intervalo ===>  ({:.4f} , {:.4f})\".format(max,min))\n",
        "  else: \n",
        "    print(\"Intervalo al {} % de confianza para Desviación\".format(100*confi))\n",
        "    print(\"Intervalo ===>  ({:.4f} , {:.4f})\".format(max**0.5,min**0.5))\n",
        "\n",
        "\n",
        "IntervaloVar(2,25,0.98)"
      ],
      "execution_count": null,
      "outputs": []
    },
    {
      "cell_type": "markdown",
      "metadata": {
        "id": "p0RCJCW1lN7-"
      },
      "source": [
        "\n",
        "\n",
        "---\n",
        "## Intervalo para Razón de Varianzas\n",
        "\n",
        "Partiendo de dos poblaciones normales con $s_1$ y $s_2$ conocidos, la función calcula un intervalo de confianza para la razón de varianzas: $\\frac{\\sigma^2_1}{\\sigma^2_2}$\n"
      ]
    },
    {
      "cell_type": "code",
      "metadata": {
        "id": "1jXNzMQdlN7-"
      },
      "source": [
        "def IntervaloRazonVarianza(s1,s2,n,m,confi=0.95):\n",
        "  alfa=1-confi\n",
        "  z1=st.f.ppf(1-(alfa/2), n-1,m-1)\n",
        "  z2=st.f.ppf((alfa/2), n-1,m-1)\n",
        "  max=z1*(s2/s1)**2;min=z2*(s2/s1)**2\n",
        "  pval=(1-st.f.cdf(z1,n-1,m-1)+(st.f.cdf(z2,n-1,m-1)))\n",
        "  print(\"Intervalo al {} % de confianza para Razón de Varianzas\".format(100*confi))\n",
        "  print(\"Intervalo ===>  ({:.4f} , {:.4f})\".format(min,max))\n",
        "  print(\"P-value ===>  {:.4f} \".format(pval))\n",
        "IntervaloRazonVarianza(0.25,0.45,21,16)"
      ],
      "execution_count": null,
      "outputs": []
    },
    {
      "cell_type": "markdown",
      "metadata": {
        "id": "q7mWcQqmMd3s"
      },
      "source": [
        "\n",
        "\n",
        "---\n",
        "\n",
        "\n",
        "\n",
        "---\n",
        "\n",
        "# Puebas de HIPÓTESIS\n"
      ]
    },
    {
      "cell_type": "markdown",
      "metadata": {
        "id": "tV22LihXMndW"
      },
      "source": [
        "## Pueba Normal para media"
      ]
    },
    {
      "cell_type": "code",
      "metadata": {
        "colab": {
          "base_uri": "https://localhost:8080/"
        },
        "id": "rhmfftHEMvli",
        "outputId": "66686afd-2813-498c-cc72-47d0d053ca78"
      },
      "source": [
        "def PruebaNormalZ(prom,mu,sigma,n,confi=0.95):\n",
        "  colas=input(\"Ingrese up, down o dos: \")\n",
        "  alfa=1-confi\n",
        "  z=np.abs(prom-mu)/(sigma/(n**0.5))\n",
        "  if colas==\"dos\":  pval=(1-st.norm.cdf(z))*2\n",
        "  if colas==\"up\": pval=1-st.norm.cdf(z)\n",
        "  elif colas==\"down\": pval=st.norm.cdf(z)\n",
        "  print(\"Valor-p ===> {}\".format(pval))\n",
        "  if pval<=alfa: print(\"Con una confianza de {}%, RECHAZAR la hipótesis\".format(confi*100))\n",
        "  else: print(\"Con una confianza de {}%, NO rechazar la hipótesis\".format(confi*100))\n",
        "\n",
        "PruebaNormalZ(3.07,3,0.4,64)"
      ],
      "execution_count": null,
      "outputs": [
        {
          "output_type": "stream",
          "text": [
            "Ingrese up, down o dos: up\n",
            "Valor-p ===> 0.08075665923377151\n",
            "Con una confianza de 95.0%, NO rechazar la hipótesis\n"
          ],
          "name": "stdout"
        }
      ]
    },
    {
      "cell_type": "markdown",
      "metadata": {
        "id": "Ae0wYboyPalz"
      },
      "source": [
        "## Prueba T para media"
      ]
    },
    {
      "cell_type": "code",
      "metadata": {
        "colab": {
          "base_uri": "https://localhost:8080/"
        },
        "id": "YKI9jkelPgVX",
        "outputId": "80695a96-11d2-46da-87ee-971a2edd012e"
      },
      "source": [
        "def PruebaT(prom,mu,sigma,n,confi=0.95):\n",
        "  colas=input(\"Ingrese up, down o dos: \")\n",
        "  alfa=1-confi\n",
        "  z=np.abs(prom-mu)/(sigma/(n**0.5))\n",
        "  if colas==\"dos\":  pval=2-2*st.t.cdf(z,n-1)\n",
        "  if colas==\"up\": pval=1-st.t.cdf(z,n-1)\n",
        "  elif colas==\"down\": pval=st.t.cdf(z,n-1)\n",
        "  print(\"Valor-p ===> {}\".format(pval))\n",
        "  if pval<=alfa: print(\"Con una confianza de {}%, RECHAZAR la hipótesis\".format(confi*100))\n",
        "  else: print(\"Con una confianza de {}%, NO rechazar la hipótesis\".format(confi*100))\n",
        "\n",
        "PruebaT()\n",
        "\n"
      ],
      "execution_count": null,
      "outputs": [
        {
          "output_type": "stream",
          "text": [
            "Ingrese up, down o dos: dos\n",
            "Valor-p ===> 0.325313192250412\n",
            "Con una confianza de 95.0%, NO rechazar la hipótesis\n"
          ],
          "name": "stdout"
        }
      ]
    },
    {
      "cell_type": "markdown",
      "metadata": {
        "id": "0y_zsD4aflc4"
      },
      "source": [
        "## Prueba Z Diferencia Medias"
      ]
    },
    {
      "cell_type": "code",
      "metadata": {
        "id": "YukzV24cftAT",
        "colab": {
          "base_uri": "https://localhost:8080/",
          "height": 527
        },
        "outputId": "eb5fa3f7-402e-442a-e0cc-b774e51ecf5b"
      },
      "source": [
        "def PruebaDiferenciaZ(MU,mu1,s1,n1,mu2,s2,n2,confi=0.95):\n",
        "  colas=input(\"Ingrese up, down o dos: \")\n",
        "  alfa=1-confi\n",
        "  se=((((s1**2)/n1) + ((s2**2)/n2)))**0.5\n",
        "  z=mu1-mu2-MU/(se)\n",
        "  if colas==\"dos\":  pval=(1-st.norm.cdf(z))*2\n",
        "  if colas==\"up\": pval=st.norm.cdf(z)\n",
        "  elif colas==\"down\": pval=1-st.norm.cdf(z)\n",
        "  print(\"Valor-p ===> {:.4f}\".format(pval))\n",
        "  if pval<=alfa: print(\"Con una confianza de {}%, RECHAZAR la hipótesis\".format(confi*100))\n",
        "  else: print(\"Con una confianza de {}%, NO rechazar la hipótesis\".format(confi*100))\n",
        "\n",
        "PruebaDiferenciaZ(8,118,102**0.5,64,109,87**0.5,64)\n"
      ],
      "execution_count": null,
      "outputs": [
        {
          "output_type": "error",
          "ename": "KeyboardInterrupt",
          "evalue": "ignored",
          "traceback": [
            "\u001b[0;31m---------------------------------------------------------------------------\u001b[0m",
            "\u001b[0;31mKeyboardInterrupt\u001b[0m                         Traceback (most recent call last)",
            "\u001b[0;32m/usr/local/lib/python3.6/dist-packages/ipykernel/kernelbase.py\u001b[0m in \u001b[0;36m_input_request\u001b[0;34m(self, prompt, ident, parent, password)\u001b[0m\n\u001b[1;32m    728\u001b[0m             \u001b[0;32mtry\u001b[0m\u001b[0;34m:\u001b[0m\u001b[0;34m\u001b[0m\u001b[0;34m\u001b[0m\u001b[0m\n\u001b[0;32m--> 729\u001b[0;31m                 \u001b[0mident\u001b[0m\u001b[0;34m,\u001b[0m \u001b[0mreply\u001b[0m \u001b[0;34m=\u001b[0m \u001b[0mself\u001b[0m\u001b[0;34m.\u001b[0m\u001b[0msession\u001b[0m\u001b[0;34m.\u001b[0m\u001b[0mrecv\u001b[0m\u001b[0;34m(\u001b[0m\u001b[0mself\u001b[0m\u001b[0;34m.\u001b[0m\u001b[0mstdin_socket\u001b[0m\u001b[0;34m,\u001b[0m \u001b[0;36m0\u001b[0m\u001b[0;34m)\u001b[0m\u001b[0;34m\u001b[0m\u001b[0;34m\u001b[0m\u001b[0m\n\u001b[0m\u001b[1;32m    730\u001b[0m             \u001b[0;32mexcept\u001b[0m \u001b[0mException\u001b[0m\u001b[0;34m:\u001b[0m\u001b[0;34m\u001b[0m\u001b[0;34m\u001b[0m\u001b[0m\n",
            "\u001b[0;32m/usr/local/lib/python3.6/dist-packages/jupyter_client/session.py\u001b[0m in \u001b[0;36mrecv\u001b[0;34m(self, socket, mode, content, copy)\u001b[0m\n\u001b[1;32m    802\u001b[0m         \u001b[0;32mtry\u001b[0m\u001b[0;34m:\u001b[0m\u001b[0;34m\u001b[0m\u001b[0;34m\u001b[0m\u001b[0m\n\u001b[0;32m--> 803\u001b[0;31m             \u001b[0mmsg_list\u001b[0m \u001b[0;34m=\u001b[0m \u001b[0msocket\u001b[0m\u001b[0;34m.\u001b[0m\u001b[0mrecv_multipart\u001b[0m\u001b[0;34m(\u001b[0m\u001b[0mmode\u001b[0m\u001b[0;34m,\u001b[0m \u001b[0mcopy\u001b[0m\u001b[0;34m=\u001b[0m\u001b[0mcopy\u001b[0m\u001b[0;34m)\u001b[0m\u001b[0;34m\u001b[0m\u001b[0;34m\u001b[0m\u001b[0m\n\u001b[0m\u001b[1;32m    804\u001b[0m         \u001b[0;32mexcept\u001b[0m \u001b[0mzmq\u001b[0m\u001b[0;34m.\u001b[0m\u001b[0mZMQError\u001b[0m \u001b[0;32mas\u001b[0m \u001b[0me\u001b[0m\u001b[0;34m:\u001b[0m\u001b[0;34m\u001b[0m\u001b[0;34m\u001b[0m\u001b[0m\n",
            "\u001b[0;32m/usr/local/lib/python3.6/dist-packages/zmq/sugar/socket.py\u001b[0m in \u001b[0;36mrecv_multipart\u001b[0;34m(self, flags, copy, track)\u001b[0m\n\u001b[1;32m    565\u001b[0m         \"\"\"\n\u001b[0;32m--> 566\u001b[0;31m         \u001b[0mparts\u001b[0m \u001b[0;34m=\u001b[0m \u001b[0;34m[\u001b[0m\u001b[0mself\u001b[0m\u001b[0;34m.\u001b[0m\u001b[0mrecv\u001b[0m\u001b[0;34m(\u001b[0m\u001b[0mflags\u001b[0m\u001b[0;34m,\u001b[0m \u001b[0mcopy\u001b[0m\u001b[0;34m=\u001b[0m\u001b[0mcopy\u001b[0m\u001b[0;34m,\u001b[0m \u001b[0mtrack\u001b[0m\u001b[0;34m=\u001b[0m\u001b[0mtrack\u001b[0m\u001b[0;34m)\u001b[0m\u001b[0;34m]\u001b[0m\u001b[0;34m\u001b[0m\u001b[0;34m\u001b[0m\u001b[0m\n\u001b[0m\u001b[1;32m    567\u001b[0m         \u001b[0;31m# have first part already, only loop while more to receive\u001b[0m\u001b[0;34m\u001b[0m\u001b[0;34m\u001b[0m\u001b[0;34m\u001b[0m\u001b[0m\n",
            "\u001b[0;32mzmq/backend/cython/socket.pyx\u001b[0m in \u001b[0;36mzmq.backend.cython.socket.Socket.recv\u001b[0;34m()\u001b[0m\n",
            "\u001b[0;32mzmq/backend/cython/socket.pyx\u001b[0m in \u001b[0;36mzmq.backend.cython.socket.Socket.recv\u001b[0;34m()\u001b[0m\n",
            "\u001b[0;32mzmq/backend/cython/socket.pyx\u001b[0m in \u001b[0;36mzmq.backend.cython.socket._recv_copy\u001b[0;34m()\u001b[0m\n",
            "\u001b[0;32m/usr/local/lib/python3.6/dist-packages/zmq/backend/cython/checkrc.pxd\u001b[0m in \u001b[0;36mzmq.backend.cython.checkrc._check_rc\u001b[0;34m()\u001b[0m\n",
            "\u001b[0;31mKeyboardInterrupt\u001b[0m: ",
            "\nDuring handling of the above exception, another exception occurred:\n",
            "\u001b[0;31mKeyboardInterrupt\u001b[0m                         Traceback (most recent call last)",
            "\u001b[0;32m<ipython-input-1-36ccb0f1f594>\u001b[0m in \u001b[0;36m<module>\u001b[0;34m()\u001b[0m\n\u001b[1;32m     11\u001b[0m   \u001b[0;32melse\u001b[0m\u001b[0;34m:\u001b[0m \u001b[0mprint\u001b[0m\u001b[0;34m(\u001b[0m\u001b[0;34m\"Con una confianza de {}%, NO rechazar la hipótesis\"\u001b[0m\u001b[0;34m.\u001b[0m\u001b[0mformat\u001b[0m\u001b[0;34m(\u001b[0m\u001b[0mconfi\u001b[0m\u001b[0;34m*\u001b[0m\u001b[0;36m100\u001b[0m\u001b[0;34m)\u001b[0m\u001b[0;34m)\u001b[0m\u001b[0;34m\u001b[0m\u001b[0;34m\u001b[0m\u001b[0m\n\u001b[1;32m     12\u001b[0m \u001b[0;34m\u001b[0m\u001b[0m\n\u001b[0;32m---> 13\u001b[0;31m \u001b[0mPruebaDiferenciaZ\u001b[0m\u001b[0;34m(\u001b[0m\u001b[0;36m8\u001b[0m\u001b[0;34m,\u001b[0m\u001b[0;36m118\u001b[0m\u001b[0;34m,\u001b[0m\u001b[0;36m102\u001b[0m\u001b[0;34m**\u001b[0m\u001b[0;36m0.5\u001b[0m\u001b[0;34m,\u001b[0m\u001b[0;36m64\u001b[0m\u001b[0;34m,\u001b[0m\u001b[0;36m109\u001b[0m\u001b[0;34m,\u001b[0m\u001b[0;36m87\u001b[0m\u001b[0;34m**\u001b[0m\u001b[0;36m0.5\u001b[0m\u001b[0;34m,\u001b[0m\u001b[0;36m64\u001b[0m\u001b[0;34m)\u001b[0m\u001b[0;34m\u001b[0m\u001b[0;34m\u001b[0m\u001b[0m\n\u001b[0m",
            "\u001b[0;32m<ipython-input-1-36ccb0f1f594>\u001b[0m in \u001b[0;36mPruebaDiferenciaZ\u001b[0;34m(MU, mu1, s1, n1, mu2, s2, n2, confi)\u001b[0m\n\u001b[1;32m      1\u001b[0m \u001b[0;32mdef\u001b[0m \u001b[0mPruebaDiferenciaZ\u001b[0m\u001b[0;34m(\u001b[0m\u001b[0mMU\u001b[0m\u001b[0;34m,\u001b[0m\u001b[0mmu1\u001b[0m\u001b[0;34m,\u001b[0m\u001b[0ms1\u001b[0m\u001b[0;34m,\u001b[0m\u001b[0mn1\u001b[0m\u001b[0;34m,\u001b[0m\u001b[0mmu2\u001b[0m\u001b[0;34m,\u001b[0m\u001b[0ms2\u001b[0m\u001b[0;34m,\u001b[0m\u001b[0mn2\u001b[0m\u001b[0;34m,\u001b[0m\u001b[0mconfi\u001b[0m\u001b[0;34m=\u001b[0m\u001b[0;36m0.95\u001b[0m\u001b[0;34m)\u001b[0m\u001b[0;34m:\u001b[0m\u001b[0;34m\u001b[0m\u001b[0;34m\u001b[0m\u001b[0m\n\u001b[0;32m----> 2\u001b[0;31m   \u001b[0mcolas\u001b[0m\u001b[0;34m=\u001b[0m\u001b[0minput\u001b[0m\u001b[0;34m(\u001b[0m\u001b[0;34m\"Ingrese up, down o dos: \"\u001b[0m\u001b[0;34m)\u001b[0m\u001b[0;34m\u001b[0m\u001b[0;34m\u001b[0m\u001b[0m\n\u001b[0m\u001b[1;32m      3\u001b[0m   \u001b[0malfa\u001b[0m\u001b[0;34m=\u001b[0m\u001b[0;36m1\u001b[0m\u001b[0;34m-\u001b[0m\u001b[0mconfi\u001b[0m\u001b[0;34m\u001b[0m\u001b[0;34m\u001b[0m\u001b[0m\n\u001b[1;32m      4\u001b[0m   \u001b[0mse\u001b[0m\u001b[0;34m=\u001b[0m\u001b[0;34m(\u001b[0m\u001b[0;34m(\u001b[0m\u001b[0;34m(\u001b[0m\u001b[0;34m(\u001b[0m\u001b[0ms1\u001b[0m\u001b[0;34m**\u001b[0m\u001b[0;36m2\u001b[0m\u001b[0;34m)\u001b[0m\u001b[0;34m/\u001b[0m\u001b[0mn1\u001b[0m\u001b[0;34m)\u001b[0m \u001b[0;34m+\u001b[0m \u001b[0;34m(\u001b[0m\u001b[0;34m(\u001b[0m\u001b[0ms2\u001b[0m\u001b[0;34m**\u001b[0m\u001b[0;36m2\u001b[0m\u001b[0;34m)\u001b[0m\u001b[0;34m/\u001b[0m\u001b[0mn2\u001b[0m\u001b[0;34m)\u001b[0m\u001b[0;34m)\u001b[0m\u001b[0;34m)\u001b[0m\u001b[0;34m**\u001b[0m\u001b[0;36m0.5\u001b[0m\u001b[0;34m\u001b[0m\u001b[0;34m\u001b[0m\u001b[0m\n\u001b[1;32m      5\u001b[0m   \u001b[0mz\u001b[0m\u001b[0;34m=\u001b[0m\u001b[0mmu1\u001b[0m\u001b[0;34m-\u001b[0m\u001b[0mmu2\u001b[0m\u001b[0;34m-\u001b[0m\u001b[0mMU\u001b[0m\u001b[0;34m/\u001b[0m\u001b[0;34m(\u001b[0m\u001b[0mse\u001b[0m\u001b[0;34m)\u001b[0m\u001b[0;34m\u001b[0m\u001b[0;34m\u001b[0m\u001b[0m\n",
            "\u001b[0;32m/usr/local/lib/python3.6/dist-packages/ipykernel/kernelbase.py\u001b[0m in \u001b[0;36mraw_input\u001b[0;34m(self, prompt)\u001b[0m\n\u001b[1;32m    702\u001b[0m             \u001b[0mself\u001b[0m\u001b[0;34m.\u001b[0m\u001b[0m_parent_ident\u001b[0m\u001b[0;34m,\u001b[0m\u001b[0;34m\u001b[0m\u001b[0;34m\u001b[0m\u001b[0m\n\u001b[1;32m    703\u001b[0m             \u001b[0mself\u001b[0m\u001b[0;34m.\u001b[0m\u001b[0m_parent_header\u001b[0m\u001b[0;34m,\u001b[0m\u001b[0;34m\u001b[0m\u001b[0;34m\u001b[0m\u001b[0m\n\u001b[0;32m--> 704\u001b[0;31m             \u001b[0mpassword\u001b[0m\u001b[0;34m=\u001b[0m\u001b[0;32mFalse\u001b[0m\u001b[0;34m,\u001b[0m\u001b[0;34m\u001b[0m\u001b[0;34m\u001b[0m\u001b[0m\n\u001b[0m\u001b[1;32m    705\u001b[0m         )\n\u001b[1;32m    706\u001b[0m \u001b[0;34m\u001b[0m\u001b[0m\n",
            "\u001b[0;32m/usr/local/lib/python3.6/dist-packages/ipykernel/kernelbase.py\u001b[0m in \u001b[0;36m_input_request\u001b[0;34m(self, prompt, ident, parent, password)\u001b[0m\n\u001b[1;32m    732\u001b[0m             \u001b[0;32mexcept\u001b[0m \u001b[0mKeyboardInterrupt\u001b[0m\u001b[0;34m:\u001b[0m\u001b[0;34m\u001b[0m\u001b[0;34m\u001b[0m\u001b[0m\n\u001b[1;32m    733\u001b[0m                 \u001b[0;31m# re-raise KeyboardInterrupt, to truncate traceback\u001b[0m\u001b[0;34m\u001b[0m\u001b[0;34m\u001b[0m\u001b[0;34m\u001b[0m\u001b[0m\n\u001b[0;32m--> 734\u001b[0;31m                 \u001b[0;32mraise\u001b[0m \u001b[0mKeyboardInterrupt\u001b[0m\u001b[0;34m\u001b[0m\u001b[0;34m\u001b[0m\u001b[0m\n\u001b[0m\u001b[1;32m    735\u001b[0m             \u001b[0;32melse\u001b[0m\u001b[0;34m:\u001b[0m\u001b[0;34m\u001b[0m\u001b[0;34m\u001b[0m\u001b[0m\n\u001b[1;32m    736\u001b[0m                 \u001b[0;32mbreak\u001b[0m\u001b[0;34m\u001b[0m\u001b[0;34m\u001b[0m\u001b[0m\n",
            "\u001b[0;31mKeyboardInterrupt\u001b[0m: "
          ]
        }
      ]
    },
    {
      "cell_type": "markdown",
      "metadata": {
        "id": "wG3gI7N_Tiy3"
      },
      "source": [
        "## Prueba T diferencia medias\n"
      ]
    },
    {
      "cell_type": "code",
      "metadata": {
        "id": "qLNsoXtfTnzm"
      },
      "source": [
        "def PruebaDiferenciaT(MU,mu1,s1,n1,mu2,s2,n2,confi=0.95):\n",
        "  sp=(((n1-1)*s1**2+(n2-1)*s2**2)/(n1+n2-2))**0.5\n",
        "  alfa=1-confi\n",
        "  nu=n1+n2-2\n",
        "  z=(mu1-mu2-MU)/(sp*((1/n1)+(1/n2)**0.5))\n",
        "  colas=input(\"Ingrese up, down o dos: \")\n",
        "  if colas==\"dos\":  pval=2-2*st.t.cdf(z,nu)\n",
        "  if colas==\"up\": pval=1-st.t.cdf(z,nu)\n",
        "  elif colas==\"down\": pval=st.t.cdf(z,nu)\n",
        "  print(\"Valor-p ===> {}\".format(pval))\n",
        "  if pval<=alfa: print(\"Con una confianza de {}%, RECHAZAR la hipótesis\".format(confi*100))\n",
        "  else: print(\"Con una confianza de {}%, NO rechazar la hipótesis\".format(confi*100))\n",
        "PruebaDiferenciaT(8,118,102**0.5,64,109,87**0.5,64,)"
      ],
      "execution_count": null,
      "outputs": []
    },
    {
      "cell_type": "markdown",
      "metadata": {
        "id": "fo-LYitIha9E"
      },
      "source": [
        "## Intervalo Proporción"
      ]
    },
    {
      "cell_type": "code",
      "metadata": {
        "colab": {
          "base_uri": "https://localhost:8080/"
        },
        "id": "7YBfQ045hY1o",
        "outputId": "7b973fb7-e68b-4e93-a40c-41206e2d3584"
      },
      "source": [
        "def PruebaProporcion(x,n,po,confi=0.95):\n",
        "  colas=input(\"Ingrese up, down o dos: \")\n",
        "  alfa=1-confi\n",
        "  pe=x/n\n",
        "  z=np.abs(pe-po)/(((po*(1-po))/n)**0.5)\n",
        "\n",
        "  if colas==\"dos\":  pval=(1-st.norm.cdf(z))*2;pval2=st.binom_test(x, n, po, alternative='two-sided')\n",
        "  if colas==\"up\": pval=st.norm.cdf(z);pval2=st.binom_test(x, n, po, alternative='less')\n",
        "  elif colas==\"down\": pval=1-st.norm.cdf(z);pval2=st.binom_test(x, n, po, alternative='greater')\n",
        "  print(pval2)\n",
        "  print(\"Valor-p ===> {}\".format(pval))\n",
        "  if pval<=alfa: print(\"Con una confianza de {}%, RECHAZAR la hipótesis\".format(confi*100))\n",
        "  else: print(\"Con una confianza de {}%, NO rechazar la hipótesis\".format(confi*100))\n",
        "\n",
        "PruebaProporcion(75,100,0.7)"
      ],
      "execution_count": null,
      "outputs": [
        {
          "output_type": "stream",
          "text": [
            "Ingrese up, down o dos: down\n",
            "0.16313010446635196\n",
            "Valor-p ===> 0.1376167620374169\n",
            "Con una confianza de 95.0%, NO rechazar la hipótesis\n"
          ],
          "name": "stdout"
        }
      ]
    },
    {
      "cell_type": "markdown",
      "metadata": {
        "id": "GhcgmjGcntkp"
      },
      "source": [
        "## Prueba diferencia de proporciones"
      ]
    },
    {
      "cell_type": "code",
      "metadata": {
        "id": "J-DYifxontCu"
      },
      "source": [
        "def PruebaDiferenciaProporcion(x,n,y,m,confi=0.95):\n",
        "  colas=input(\"Ingrese up, down o dos: \")\n",
        "  pe=(x+y)/(n+m)\n",
        "  alfa=1-confi\n",
        "  p1=x/n;p2=y/m\n",
        "  se=( pe*(1-pe)* ((1/n) + (1/m)) )**0.5\n",
        "  z=np.abs(p1-p2)/(se)\n",
        "  if colas==\"dos\":  pval=(1-st.norm.cdf(z))*2\n",
        "  if colas==\"up\": pval=st.norm.cdf(z)\n",
        "  elif colas==\"down\": pval=st.norm.cdf(-z)\n",
        "  print(\"Valor-p ===> {:.4f}\".format(pval))\n",
        "  if pval<=alfa: print(\"Con una confianza de {}%, RECHAZAR la hipótesis\".format(confi*100))\n",
        "  else: print(\"Con una confianza de {}%, NO rechazar la hipótesis\".format(confi*100))\n",
        "\n",
        "PruebaDiferenciaProporcion(126,300,125,250,0.99)"
      ],
      "execution_count": null,
      "outputs": []
    },
    {
      "cell_type": "markdown",
      "metadata": {
        "id": "iBk_oorbqisf"
      },
      "source": [
        "## Prueba para $\\sigma^2$"
      ]
    },
    {
      "cell_type": "code",
      "metadata": {
        "colab": {
          "base_uri": "https://localhost:8080/"
        },
        "id": "o3BJMBZfqidI",
        "outputId": "2fe08b66-02ad-4e56-d9ae-e4ba142d32a9"
      },
      "source": [
        "def PruebaSigma(s,sigma0,n,confi=0.95):\n",
        "  z=(n-1)*(s**2)/sigma0**2\n",
        "  nu=n-1;alfa=1-confi\n",
        "  colas=input(\"Ingrese up, down o dos: \")\n",
        "  if colas==\"dos\":  pval=2*np.min([st.chi2.cdf(z,nu),1-st.chi2.cdf(z,nu)])\n",
        "  if colas==\"up\": pval=st.chi2.cdf(z,nu)\n",
        "  elif colas==\"down\": pval=1-st.chi2.cdf(z,nu)\n",
        "  print(\"Valor-p ===> {}\".format(pval))\n",
        "  if pval<=alfa: print(\"Con una confianza de {}%, RECHAZAR la hipótesis\".format(confi*100))\n",
        "  else: print(\"Con una confianza de {}%, NO rechazar la hipótesis\".format(confi*100))\n",
        "\n",
        "PruebaSigma(4000,2000,100,0.975)"
      ],
      "execution_count": null,
      "outputs": [
        {
          "output_type": "stream",
          "text": [
            "Ingrese up, down o dos: dos\n",
            "Valor-p ===> 0.0\n",
            "Con una confianza de 97.5%, RECHAZAR la hipótesis\n"
          ],
          "name": "stdout"
        }
      ]
    },
    {
      "cell_type": "markdown",
      "metadata": {
        "id": "sHzxRa3_lqmA"
      },
      "source": [
        "\n",
        "\n",
        "\n",
        "---\n",
        "\n",
        "\n",
        "\n",
        "---\n",
        "\n",
        "\n",
        "# Prueba de bondad de ajuste"
      ]
    },
    {
      "cell_type": "code",
      "metadata": {
        "id": "nt9GNxQblmPB"
      },
      "source": [
        "\n",
        "\n",
        "#datos=np.arange([])\n",
        "fObs=[63,23,14]\n",
        "#mu=datos*fObs\n",
        "F=lambda x: st.poisson.pmf(x,0.52)\n",
        "expect=[F(i)*100 for i in [0,1]]\n",
        "expect.append(100-np.sum(expect));print(expect)"
      ],
      "execution_count": null,
      "outputs": []
    },
    {
      "cell_type": "markdown",
      "metadata": {
        "id": "H7MsoFgDmXBX"
      },
      "source": [
        "Para Poisson: \n",
        "\n",
        "```\n",
        "poisson.cdf(x, mu)\n",
        "```\n",
        "\n"
      ]
    },
    {
      "cell_type": "code",
      "metadata": {
        "id": "XjFc0MFtmEuH"
      },
      "source": [
        "for k in expect:\n",
        "   if k<5: print(\"Debe juntar celdas\")\n",
        "def bondAjuste(fObs,expect,t,confi=0.95):\n",
        "  alfa=1-confi\n",
        "  nu=t\n",
        "  dis,pval=st.chisquare(fObs, expect, ddof=nu)\n",
        "  print(\"Valor-p ===> {:.4f}\".format(pval))\n",
        "  if pval<=alfa: print(\"Con una confianza de {}%, RECHAZAR la hipótesis\".format(confi*100))\n",
        "  else: print(\"Con una confianza de {}%, ACEPTAR la hipótesis\".format(confi*100))\n",
        "bondAjuste(fObs,expect,1)"
      ],
      "execution_count": null,
      "outputs": []
    },
    {
      "cell_type": "code",
      "metadata": {
        "id": "R9fbvvbqby73"
      },
      "source": [
        ""
      ],
      "execution_count": null,
      "outputs": []
    }
  ]
}